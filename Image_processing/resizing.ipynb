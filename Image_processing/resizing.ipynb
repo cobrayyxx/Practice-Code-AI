{
 "cells": [
  {
   "cell_type": "code",
   "execution_count": null,
   "id": "47923b0a-c1d6-4739-9691-7e0cc0dbef03",
   "metadata": {},
   "outputs": [],
   "source": [
    "import numpy as np\n",
    "import imutils\n",
    "import cv2\n",
    "\n",
    "image = cv2.imread('img/ufc')\n",
    "cv2.imshow(\"Original\", image)\n",
    "\n",
    "#resized by specifying the width\n",
    "r = 150.0/image.shape[1] # new ratio = 150/old_width \n",
    "dim = (150, int(image.shape[0]*r)) # new dimension\n",
    "resized = cv2.resize(image, dim, interpolation = cv2.INTER_AREA)\n",
    "cv2.imshow(\"Resized (Width)\", resized)\n",
    "\n",
    "# resized by specifying the height\n",
    "r = 50.0/image.shape[0] # define ratio\n",
    "dim = (int(image.shape[1]*r),50) # new dimension\n",
    "\n",
    "resized = cv2.resize(image, dim, interpolation = cv2.INTER_AREA)\n",
    "cv2.imshow(\"Resized (Height)\", resized)\n",
    "cv2.waitKey(0)"
   ]
  },
  {
   "cell_type": "code",
   "execution_count": null,
   "id": "a13399bf-0317-4d02-967b-36908fe2735d",
   "metadata": {},
   "outputs": [],
   "source": [
    "resized = imutils.resize(image, height = 50)\n",
    "cv2.imshow(\"Resized\",resized)\n",
    "cv2.waitKey(0)"
   ]
  },
  {
   "cell_type": "code",
   "execution_count": null,
   "id": "78f902e2-7d26-4d48-ad6c-570acb9db6b7",
   "metadata": {},
   "outputs": [],
   "source": [
    "def resize(image, width = None, height = None, inter = cv2.INTER_AREA):\n",
    "    dim = None\n",
    "    (h, w) = image.shape[:2]\n",
    "    \n",
    "    if width is None and height is None:\n",
    "        return image\n",
    "    \n",
    "    if width is None:\n",
    "        r = height / float(h)\n",
    "        dim = (int(w*r), height)\n",
    "    \n",
    "    else:\n",
    "        r = width/float(w)\n",
    "        dim = (width, int(h * r))\n",
    "        \n",
    "    resized = cv2.resize(image, dim, interpolation = inter)\n",
    "    return resized"
   ]
  },
  {
   "cell_type": "code",
   "execution_count": null,
   "id": "ac7f22bd-be90-490d-9417-1ba5ee66b950",
   "metadata": {},
   "outputs": [],
   "source": []
  }
 ],
 "metadata": {
  "kernelspec": {
   "display_name": "venv",
   "language": "python",
   "name": "venv"
  },
  "language_info": {
   "codemirror_mode": {
    "name": "ipython",
    "version": 3
   },
   "file_extension": ".py",
   "mimetype": "text/x-python",
   "name": "python",
   "nbconvert_exporter": "python",
   "pygments_lexer": "ipython3",
   "version": "3.10.4"
  }
 },
 "nbformat": 4,
 "nbformat_minor": 5
}
