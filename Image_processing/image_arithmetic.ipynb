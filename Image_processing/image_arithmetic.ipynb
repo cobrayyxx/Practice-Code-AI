{
 "cells": [
  {
   "cell_type": "code",
   "execution_count": 1,
   "id": "9feceaef-84b7-4e64-87ff-695bea7d9152",
   "metadata": {},
   "outputs": [
    {
     "name": "stdout",
     "output_type": "stream",
     "text": [
      "max of 255: [[255]]\n",
      "min of 0: [[0]]\n",
      "wrap around: [44]\n",
      "wrap around: [206]\n"
     ]
    }
   ],
   "source": [
    "import cv2\n",
    "import numpy as np\n",
    "\n",
    "image = cv2.imread('img/ufc')\n",
    "# cv2.imshow(\"Original\", image)\n",
    "# cv2.waitKey(0)\n",
    "\n",
    "print(\"max of 255: {}\".format(cv2.add(np.uint8([200]), np.uint8([100])))) # if the result exceed 255, it will cut into 255\n",
    "print(\"min of 0: {}\".format(cv2.subtract(np.uint8([50]), np.uint8([100])))) # if the result under 0, it'll cut into 0\n",
    "print(\"wrap around: {}\".format(np.uint8([200]) + np.uint8([100]))) # if the result exceed 255, the remain'll counting up start from 0\n",
    "print(\"wrap around: {}\".format(np.uint8([50]) - np.uint8([100]))) # if the result under 0, the remain'll counting down start from 255"
   ]
  },
  {
   "cell_type": "code",
   "execution_count": null,
   "id": "a59e5631-1dc3-4215-a548-9521778afa95",
   "metadata": {},
   "outputs": [
    {
     "name": "stderr",
     "output_type": "stream",
     "text": [
      "QApplication: invalid style override 'kvantum' passed, ignoring it.\n",
      "\tAvailable styles: Windows, Fusion\n"
     ]
    }
   ],
   "source": [
    "M = np.ones(image.shape, dtype=\"uint8\") * 100\n",
    "added = cv2.add(image, M)\n",
    "cv2.imshow(\"Added\", added)\n",
    "\n",
    "M = np.ones(image.shape, dtype = \"uint8\") * 50\n",
    "subtracted = cv2.subtract(image, M)\n",
    "cv2.imshow(\"Subtracted\", subtracted)\n",
    "cv2.waitKey(0)"
   ]
  },
  {
   "cell_type": "code",
   "execution_count": 2,
   "id": "b768ac43-f0f5-46a7-b315-b3e7e098b775",
   "metadata": {},
   "outputs": [
    {
     "ename": "error",
     "evalue": "OpenCV(4.6.0) /io/opencv/modules/core/src/mathfuncs.cpp:1248: error: (-215:Assertion failed) depth == CV_32F || depth == CV_64F in function 'pow'\n",
     "output_type": "error",
     "traceback": [
      "\u001b[0;31m---------------------------------------------------------------------------\u001b[0m",
      "\u001b[0;31merror\u001b[0m                                     Traceback (most recent call last)",
      "Input \u001b[0;32mIn [2]\u001b[0m, in \u001b[0;36m<cell line: 8>\u001b[0;34m()\u001b[0m\n\u001b[1;32m      6\u001b[0m subtracted \u001b[38;5;241m=\u001b[39m cv2\u001b[38;5;241m.\u001b[39msubtract(image, resized)\n\u001b[1;32m      7\u001b[0m added \u001b[38;5;241m=\u001b[39m cv2\u001b[38;5;241m.\u001b[39madd(image, resized)\n\u001b[0;32m----> 8\u001b[0m sqrted \u001b[38;5;241m=\u001b[39m \u001b[43mcv2\u001b[49m\u001b[38;5;241;43m.\u001b[39;49m\u001b[43msqrt\u001b[49m\u001b[43m(\u001b[49m\u001b[43mimage\u001b[49m\u001b[43m,\u001b[49m\u001b[43m \u001b[49m\u001b[43mresized\u001b[49m\u001b[43m)\u001b[49m\n\u001b[1;32m      9\u001b[0m cv2\u001b[38;5;241m.\u001b[39mimshow(\u001b[38;5;124m\"\u001b[39m\u001b[38;5;124mAdded\u001b[39m\u001b[38;5;124m\"\u001b[39m, added)\n\u001b[1;32m     10\u001b[0m cv2\u001b[38;5;241m.\u001b[39mimshow(\u001b[38;5;124m\"\u001b[39m\u001b[38;5;124mSubtracted\u001b[39m\u001b[38;5;124m\"\u001b[39m, subtracted)\n",
      "\u001b[0;31merror\u001b[0m: OpenCV(4.6.0) /io/opencv/modules/core/src/mathfuncs.cpp:1248: error: (-215:Assertion failed) depth == CV_32F || depth == CV_64F in function 'pow'\n"
     ]
    }
   ],
   "source": [
    "# Try adding two images\n",
    "img2 = cv2.imread('img/adesanya')\n",
    "dim = (image.shape[1], image.shape[0]) \n",
    "resized = cv2.resize(img2, dim, interpolation = cv2.INTER_AREA)# resized the image. so size \"img2\" = size \"image\"\n",
    "\n",
    "subtracted = cv2.subtract(image, resized)\n",
    "added = cv2.add(image, resized)\n",
    "sqrted = cv2.sqrt(image, resized)\n",
    "cv2.imshow(\"Added\", added)\n",
    "cv2.imshow(\"Subtracted\", subtracted)\n",
    "cv2.imshow(\"square root\", sqrted)\n",
    "cv2.waitKey(0)"
   ]
  },
  {
   "cell_type": "code",
   "execution_count": null,
   "id": "121c768c-3fe0-4cbc-aa27-d272f4e66a92",
   "metadata": {},
   "outputs": [],
   "source": []
  }
 ],
 "metadata": {
  "kernelspec": {
   "display_name": "venv",
   "language": "python",
   "name": "venv"
  },
  "language_info": {
   "codemirror_mode": {
    "name": "ipython",
    "version": 3
   },
   "file_extension": ".py",
   "mimetype": "text/x-python",
   "name": "python",
   "nbconvert_exporter": "python",
   "pygments_lexer": "ipython3",
   "version": "3.10.4"
  }
 },
 "nbformat": 4,
 "nbformat_minor": 5
}
